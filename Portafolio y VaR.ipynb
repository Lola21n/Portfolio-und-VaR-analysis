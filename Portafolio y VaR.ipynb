{
 "cells": [
  {
   "cell_type": "code",
   "execution_count": 1,
   "id": "b84a5955",
   "metadata": {},
   "outputs": [
    {
     "name": "stdout",
     "output_type": "stream",
     "text": [
      "Requirement already satisfied: yfinance in c:\\users\\andre\\anaconda3\\lib\\site-packages (0.2.30)\n",
      "Requirement already satisfied: multitasking>=0.0.7 in c:\\users\\andre\\anaconda3\\lib\\site-packages (from yfinance) (0.0.11)\n",
      "Requirement already satisfied: pytz>=2022.5 in c:\\users\\andre\\anaconda3\\lib\\site-packages (from yfinance) (2023.3.post1)\n",
      "Requirement already satisfied: peewee>=3.16.2 in c:\\users\\andre\\anaconda3\\lib\\site-packages (from yfinance) (3.16.3)\n",
      "Requirement already satisfied: beautifulsoup4>=4.11.1 in c:\\users\\andre\\anaconda3\\lib\\site-packages (from yfinance) (4.11.1)\n",
      "Requirement already satisfied: lxml>=4.9.1 in c:\\users\\andre\\anaconda3\\lib\\site-packages (from yfinance) (4.9.3)\n",
      "Requirement already satisfied: html5lib>=1.1 in c:\\users\\andre\\anaconda3\\lib\\site-packages (from yfinance) (1.1)\n",
      "Requirement already satisfied: appdirs>=1.4.4 in c:\\users\\andre\\anaconda3\\lib\\site-packages (from yfinance) (1.4.4)\n",
      "Requirement already satisfied: numpy>=1.16.5 in c:\\users\\andre\\anaconda3\\lib\\site-packages (from yfinance) (1.21.5)\n",
      "Requirement already satisfied: pandas>=1.3.0 in c:\\users\\andre\\anaconda3\\lib\\site-packages (from yfinance) (1.4.2)\n",
      "Requirement already satisfied: frozendict>=2.3.4 in c:\\users\\andre\\anaconda3\\lib\\site-packages (from yfinance) (2.3.8)\n",
      "Requirement already satisfied: requests>=2.31 in c:\\users\\andre\\anaconda3\\lib\\site-packages (from yfinance) (2.31.0)\n",
      "Requirement already satisfied: soupsieve>1.2 in c:\\users\\andre\\anaconda3\\lib\\site-packages (from beautifulsoup4>=4.11.1->yfinance) (2.3.1)\n",
      "Requirement already satisfied: six>=1.9 in c:\\users\\andre\\anaconda3\\lib\\site-packages (from html5lib>=1.1->yfinance) (1.16.0)\n",
      "Requirement already satisfied: webencodings in c:\\users\\andre\\anaconda3\\lib\\site-packages (from html5lib>=1.1->yfinance) (0.5.1)\n",
      "Requirement already satisfied: python-dateutil>=2.8.1 in c:\\users\\andre\\anaconda3\\lib\\site-packages (from pandas>=1.3.0->yfinance) (2.8.2)\n",
      "Requirement already satisfied: urllib3<3,>=1.21.1 in c:\\users\\andre\\anaconda3\\lib\\site-packages (from requests>=2.31->yfinance) (1.26.9)\n",
      "Requirement already satisfied: certifi>=2017.4.17 in c:\\users\\andre\\anaconda3\\lib\\site-packages (from requests>=2.31->yfinance) (2021.10.8)\n",
      "Requirement already satisfied: idna<4,>=2.5 in c:\\users\\andre\\anaconda3\\lib\\site-packages (from requests>=2.31->yfinance) (3.3)\n",
      "Requirement already satisfied: charset-normalizer<4,>=2 in c:\\users\\andre\\anaconda3\\lib\\site-packages (from requests>=2.31->yfinance) (2.0.4)\n",
      "Note: you may need to restart the kernel to use updated packages.\n"
     ]
    }
   ],
   "source": [
    "pip install yfinance --upgrade --no-cache-dir"
   ]
  },
  {
   "cell_type": "code",
   "execution_count": 2,
   "id": "506fc360",
   "metadata": {},
   "outputs": [
    {
     "name": "stdout",
     "output_type": "stream",
     "text": [
      "Requirement already satisfied: pandas-datareader in c:\\users\\andre\\anaconda3\\lib\\site-packages (0.10.0)\n",
      "Requirement already satisfied: pandas>=0.23 in c:\\users\\andre\\anaconda3\\lib\\site-packages (from pandas-datareader) (1.4.2)\n",
      "Requirement already satisfied: requests>=2.19.0 in c:\\users\\andre\\anaconda3\\lib\\site-packages (from pandas-datareader) (2.31.0)\n",
      "Requirement already satisfied: lxml in c:\\users\\andre\\anaconda3\\lib\\site-packages (from pandas-datareader) (4.9.3)\n",
      "Requirement already satisfied: pytz>=2020.1 in c:\\users\\andre\\anaconda3\\lib\\site-packages (from pandas>=0.23->pandas-datareader) (2023.3.post1)\n",
      "Requirement already satisfied: python-dateutil>=2.8.1 in c:\\users\\andre\\anaconda3\\lib\\site-packages (from pandas>=0.23->pandas-datareader) (2.8.2)\n",
      "Requirement already satisfied: numpy>=1.18.5 in c:\\users\\andre\\anaconda3\\lib\\site-packages (from pandas>=0.23->pandas-datareader) (1.21.5)\n",
      "Requirement already satisfied: six>=1.5 in c:\\users\\andre\\anaconda3\\lib\\site-packages (from python-dateutil>=2.8.1->pandas>=0.23->pandas-datareader) (1.16.0)\n",
      "Requirement already satisfied: idna<4,>=2.5 in c:\\users\\andre\\anaconda3\\lib\\site-packages (from requests>=2.19.0->pandas-datareader) (3.3)\n",
      "Requirement already satisfied: urllib3<3,>=1.21.1 in c:\\users\\andre\\anaconda3\\lib\\site-packages (from requests>=2.19.0->pandas-datareader) (1.26.9)\n",
      "Requirement already satisfied: certifi>=2017.4.17 in c:\\users\\andre\\anaconda3\\lib\\site-packages (from requests>=2.19.0->pandas-datareader) (2021.10.8)\n",
      "Requirement already satisfied: charset-normalizer<4,>=2 in c:\\users\\andre\\anaconda3\\lib\\site-packages (from requests>=2.19.0->pandas-datareader) (2.0.4)\n",
      "Note: you may need to restart the kernel to use updated packages.\n"
     ]
    }
   ],
   "source": [
    "pip install pandas-datareader"
   ]
  },
  {
   "cell_type": "code",
   "execution_count": 3,
   "id": "e7fdbc29",
   "metadata": {},
   "outputs": [
    {
     "name": "stdout",
     "output_type": "stream",
     "text": [
      "[*********************100%%**********************]  10 of 10 completed\n"
     ]
    },
    {
     "data": {
      "text/html": [
       "<div>\n",
       "<style scoped>\n",
       "    .dataframe tbody tr th:only-of-type {\n",
       "        vertical-align: middle;\n",
       "    }\n",
       "\n",
       "    .dataframe tbody tr th {\n",
       "        vertical-align: top;\n",
       "    }\n",
       "\n",
       "    .dataframe thead th {\n",
       "        text-align: right;\n",
       "    }\n",
       "</style>\n",
       "<table border=\"1\" class=\"dataframe\">\n",
       "  <thead>\n",
       "    <tr style=\"text-align: right;\">\n",
       "      <th></th>\n",
       "      <th>AZN</th>\n",
       "      <th>BIMBOA.MX</th>\n",
       "      <th>BRK-A</th>\n",
       "      <th>DX-Y.NYB</th>\n",
       "      <th>FER.MC</th>\n",
       "      <th>GC=F</th>\n",
       "      <th>SHEL</th>\n",
       "      <th>ZURN.SW</th>\n",
       "      <th>^GSPC</th>\n",
       "      <th>^TNX</th>\n",
       "    </tr>\n",
       "    <tr>\n",
       "      <th>Date</th>\n",
       "      <th></th>\n",
       "      <th></th>\n",
       "      <th></th>\n",
       "      <th></th>\n",
       "      <th></th>\n",
       "      <th></th>\n",
       "      <th></th>\n",
       "      <th></th>\n",
       "      <th></th>\n",
       "      <th></th>\n",
       "    </tr>\n",
       "  </thead>\n",
       "  <tbody>\n",
       "    <tr>\n",
       "      <th>2023-09-14</th>\n",
       "      <td>0.020015</td>\n",
       "      <td>-0.004964</td>\n",
       "      <td>0.006784</td>\n",
       "      <td>0.006109</td>\n",
       "      <td>0.014885</td>\n",
       "      <td>0.000471</td>\n",
       "      <td>0.022055</td>\n",
       "      <td>0.012181</td>\n",
       "      <td>0.008430</td>\n",
       "      <td>0.009179</td>\n",
       "    </tr>\n",
       "    <tr>\n",
       "      <th>2023-09-15</th>\n",
       "      <td>0.007229</td>\n",
       "      <td>-0.003528</td>\n",
       "      <td>-0.003988</td>\n",
       "      <td>-0.000854</td>\n",
       "      <td>0.014333</td>\n",
       "      <td>0.007173</td>\n",
       "      <td>-0.010560</td>\n",
       "      <td>0.004483</td>\n",
       "      <td>-0.012160</td>\n",
       "      <td>0.007929</td>\n",
       "    </tr>\n",
       "    <tr>\n",
       "      <th>2023-09-18</th>\n",
       "      <td>-0.024022</td>\n",
       "      <td>0.008913</td>\n",
       "      <td>0.005898</td>\n",
       "      <td>-0.001139</td>\n",
       "      <td>-0.004272</td>\n",
       "      <td>0.004055</td>\n",
       "      <td>0.008971</td>\n",
       "      <td>0.001409</td>\n",
       "      <td>0.000721</td>\n",
       "      <td>-0.000694</td>\n",
       "    </tr>\n",
       "    <tr>\n",
       "      <th>2023-09-19</th>\n",
       "      <td>0.000600</td>\n",
       "      <td>0.000847</td>\n",
       "      <td>0.000485</td>\n",
       "      <td>0.000000</td>\n",
       "      <td>0.008911</td>\n",
       "      <td>0.000259</td>\n",
       "      <td>-0.000920</td>\n",
       "      <td>0.002346</td>\n",
       "      <td>-0.002151</td>\n",
       "      <td>0.010651</td>\n",
       "    </tr>\n",
       "    <tr>\n",
       "      <th>2023-09-20</th>\n",
       "      <td>0.019349</td>\n",
       "      <td>0.007860</td>\n",
       "      <td>-0.011531</td>\n",
       "      <td>-0.000380</td>\n",
       "      <td>-0.007524</td>\n",
       "      <td>0.007039</td>\n",
       "      <td>-0.003683</td>\n",
       "      <td>0.005851</td>\n",
       "      <td>-0.009395</td>\n",
       "      <td>-0.003665</td>\n",
       "    </tr>\n",
       "  </tbody>\n",
       "</table>\n",
       "</div>"
      ],
      "text/plain": [
       "                 AZN  BIMBOA.MX     BRK-A  DX-Y.NYB    FER.MC      GC=F  \\\n",
       "Date                                                                      \n",
       "2023-09-14  0.020015  -0.004964  0.006784  0.006109  0.014885  0.000471   \n",
       "2023-09-15  0.007229  -0.003528 -0.003988 -0.000854  0.014333  0.007173   \n",
       "2023-09-18 -0.024022   0.008913  0.005898 -0.001139 -0.004272  0.004055   \n",
       "2023-09-19  0.000600   0.000847  0.000485  0.000000  0.008911  0.000259   \n",
       "2023-09-20  0.019349   0.007860 -0.011531 -0.000380 -0.007524  0.007039   \n",
       "\n",
       "                SHEL   ZURN.SW     ^GSPC      ^TNX  \n",
       "Date                                                \n",
       "2023-09-14  0.022055  0.012181  0.008430  0.009179  \n",
       "2023-09-15 -0.010560  0.004483 -0.012160  0.007929  \n",
       "2023-09-18  0.008971  0.001409  0.000721 -0.000694  \n",
       "2023-09-19 -0.000920  0.002346 -0.002151  0.010651  \n",
       "2023-09-20 -0.003683  0.005851 -0.009395 -0.003665  "
      ]
     },
     "execution_count": 3,
     "metadata": {},
     "output_type": "execute_result"
    }
   ],
   "source": [
    "import pandas as pd\n",
    "from pandas_datareader import data as pdr\n",
    "import yfinance as yf\n",
    "import numpy as np\n",
    "import datetime as dt\n",
    "import scipy\n",
    "    \n",
    "tickers = ['^GSPC','DX-Y.NYB', 'AZN', 'BRK-A', 'SHEL', 'ZURN.SW', 'FER.MC', 'BIMBOA.MX', 'GC=F', '^TNX']\n",
    " \n",
    "initial_investment = 1000000\n",
    " \n",
    "data = yf.download(tickers, start=\"2020-01-01\", end=\"2023-09-21\")['Close']\n",
    " \n",
    "returns = data.pct_change()\n",
    "\n",
    "returns.tail()"
   ]
  },
  {
   "cell_type": "code",
   "execution_count": 4,
   "id": "a6c22853",
   "metadata": {},
   "outputs": [
    {
     "data": {
      "text/html": [
       "<div>\n",
       "<style scoped>\n",
       "    .dataframe tbody tr th:only-of-type {\n",
       "        vertical-align: middle;\n",
       "    }\n",
       "\n",
       "    .dataframe tbody tr th {\n",
       "        vertical-align: top;\n",
       "    }\n",
       "\n",
       "    .dataframe thead th {\n",
       "        text-align: right;\n",
       "    }\n",
       "</style>\n",
       "<table border=\"1\" class=\"dataframe\">\n",
       "  <thead>\n",
       "    <tr style=\"text-align: right;\">\n",
       "      <th></th>\n",
       "      <th>AZN</th>\n",
       "      <th>BIMBOA.MX</th>\n",
       "      <th>BRK-A</th>\n",
       "      <th>DX-Y.NYB</th>\n",
       "      <th>FER.MC</th>\n",
       "      <th>GC=F</th>\n",
       "      <th>SHEL</th>\n",
       "      <th>ZURN.SW</th>\n",
       "      <th>^GSPC</th>\n",
       "      <th>^TNX</th>\n",
       "    </tr>\n",
       "  </thead>\n",
       "  <tbody>\n",
       "    <tr>\n",
       "      <th>count</th>\n",
       "      <td>963.000000</td>\n",
       "      <td>963.000000</td>\n",
       "      <td>963.000000</td>\n",
       "      <td>963.000000</td>\n",
       "      <td>963.000000</td>\n",
       "      <td>963.000000</td>\n",
       "      <td>963.000000</td>\n",
       "      <td>962.000000</td>\n",
       "      <td>963.000000</td>\n",
       "      <td>963.000000</td>\n",
       "    </tr>\n",
       "    <tr>\n",
       "      <th>mean</th>\n",
       "      <td>0.000463</td>\n",
       "      <td>0.001129</td>\n",
       "      <td>0.000607</td>\n",
       "      <td>0.000096</td>\n",
       "      <td>0.000279</td>\n",
       "      <td>0.000307</td>\n",
       "      <td>0.000428</td>\n",
       "      <td>0.000192</td>\n",
       "      <td>0.000421</td>\n",
       "      <td>0.001810</td>\n",
       "    </tr>\n",
       "    <tr>\n",
       "      <th>std</th>\n",
       "      <td>0.017457</td>\n",
       "      <td>0.021896</td>\n",
       "      <td>0.014301</td>\n",
       "      <td>0.004557</td>\n",
       "      <td>0.018335</td>\n",
       "      <td>0.010391</td>\n",
       "      <td>0.026032</td>\n",
       "      <td>0.015663</td>\n",
       "      <td>0.014658</td>\n",
       "      <td>0.043979</td>\n",
       "    </tr>\n",
       "    <tr>\n",
       "      <th>min</th>\n",
       "      <td>-0.106197</td>\n",
       "      <td>-0.117910</td>\n",
       "      <td>-0.085453</td>\n",
       "      <td>-0.021167</td>\n",
       "      <td>-0.124783</td>\n",
       "      <td>-0.049787</td>\n",
       "      <td>-0.171722</td>\n",
       "      <td>-0.137921</td>\n",
       "      <td>-0.119841</td>\n",
       "      <td>-0.293201</td>\n",
       "    </tr>\n",
       "    <tr>\n",
       "      <th>25%</th>\n",
       "      <td>-0.007610</td>\n",
       "      <td>-0.010843</td>\n",
       "      <td>-0.006601</td>\n",
       "      <td>-0.002441</td>\n",
       "      <td>-0.008475</td>\n",
       "      <td>-0.004412</td>\n",
       "      <td>-0.011492</td>\n",
       "      <td>-0.005493</td>\n",
       "      <td>-0.006003</td>\n",
       "      <td>-0.018079</td>\n",
       "    </tr>\n",
       "    <tr>\n",
       "      <th>50%</th>\n",
       "      <td>0.000452</td>\n",
       "      <td>0.000000</td>\n",
       "      <td>0.000551</td>\n",
       "      <td>0.000000</td>\n",
       "      <td>0.000000</td>\n",
       "      <td>0.000382</td>\n",
       "      <td>0.000000</td>\n",
       "      <td>0.000267</td>\n",
       "      <td>0.000277</td>\n",
       "      <td>0.000542</td>\n",
       "    </tr>\n",
       "    <tr>\n",
       "      <th>75%</th>\n",
       "      <td>0.009264</td>\n",
       "      <td>0.012185</td>\n",
       "      <td>0.007355</td>\n",
       "      <td>0.002688</td>\n",
       "      <td>0.009741</td>\n",
       "      <td>0.005617</td>\n",
       "      <td>0.012317</td>\n",
       "      <td>0.007687</td>\n",
       "      <td>0.007480</td>\n",
       "      <td>0.020983</td>\n",
       "    </tr>\n",
       "    <tr>\n",
       "      <th>max</th>\n",
       "      <td>0.083091</td>\n",
       "      <td>0.140780</td>\n",
       "      <td>0.112875</td>\n",
       "      <td>0.016525</td>\n",
       "      <td>0.136181</td>\n",
       "      <td>0.059477</td>\n",
       "      <td>0.196795</td>\n",
       "      <td>0.133579</td>\n",
       "      <td>0.093828</td>\n",
       "      <td>0.498998</td>\n",
       "    </tr>\n",
       "  </tbody>\n",
       "</table>\n",
       "</div>"
      ],
      "text/plain": [
       "              AZN   BIMBOA.MX       BRK-A    DX-Y.NYB      FER.MC        GC=F  \\\n",
       "count  963.000000  963.000000  963.000000  963.000000  963.000000  963.000000   \n",
       "mean     0.000463    0.001129    0.000607    0.000096    0.000279    0.000307   \n",
       "std      0.017457    0.021896    0.014301    0.004557    0.018335    0.010391   \n",
       "min     -0.106197   -0.117910   -0.085453   -0.021167   -0.124783   -0.049787   \n",
       "25%     -0.007610   -0.010843   -0.006601   -0.002441   -0.008475   -0.004412   \n",
       "50%      0.000452    0.000000    0.000551    0.000000    0.000000    0.000382   \n",
       "75%      0.009264    0.012185    0.007355    0.002688    0.009741    0.005617   \n",
       "max      0.083091    0.140780    0.112875    0.016525    0.136181    0.059477   \n",
       "\n",
       "             SHEL     ZURN.SW       ^GSPC        ^TNX  \n",
       "count  963.000000  962.000000  963.000000  963.000000  \n",
       "mean     0.000428    0.000192    0.000421    0.001810  \n",
       "std      0.026032    0.015663    0.014658    0.043979  \n",
       "min     -0.171722   -0.137921   -0.119841   -0.293201  \n",
       "25%     -0.011492   -0.005493   -0.006003   -0.018079  \n",
       "50%      0.000000    0.000267    0.000277    0.000542  \n",
       "75%      0.012317    0.007687    0.007480    0.020983  \n",
       "max      0.196795    0.133579    0.093828    0.498998  "
      ]
     },
     "execution_count": 4,
     "metadata": {},
     "output_type": "execute_result"
    }
   ],
   "source": [
    "returns.describe()"
   ]
  },
  {
   "cell_type": "code",
   "execution_count": 5,
   "id": "ee74e173",
   "metadata": {},
   "outputs": [
    {
     "data": {
      "text/html": [
       "<div>\n",
       "<style scoped>\n",
       "    .dataframe tbody tr th:only-of-type {\n",
       "        vertical-align: middle;\n",
       "    }\n",
       "\n",
       "    .dataframe tbody tr th {\n",
       "        vertical-align: top;\n",
       "    }\n",
       "\n",
       "    .dataframe thead th {\n",
       "        text-align: right;\n",
       "    }\n",
       "</style>\n",
       "<table border=\"1\" class=\"dataframe\">\n",
       "  <thead>\n",
       "    <tr style=\"text-align: right;\">\n",
       "      <th></th>\n",
       "      <th>AZN</th>\n",
       "      <th>BIMBOA.MX</th>\n",
       "      <th>BRK-A</th>\n",
       "      <th>DX-Y.NYB</th>\n",
       "      <th>FER.MC</th>\n",
       "      <th>GC=F</th>\n",
       "      <th>SHEL</th>\n",
       "      <th>ZURN.SW</th>\n",
       "      <th>^GSPC</th>\n",
       "      <th>^TNX</th>\n",
       "    </tr>\n",
       "  </thead>\n",
       "  <tbody>\n",
       "    <tr>\n",
       "      <th>AZN</th>\n",
       "      <td>0.000305</td>\n",
       "      <td>0.000051</td>\n",
       "      <td>0.000093</td>\n",
       "      <td>-0.000013</td>\n",
       "      <td>0.000089</td>\n",
       "      <td>0.000027</td>\n",
       "      <td>0.000124</td>\n",
       "      <td>0.000073</td>\n",
       "      <td>0.000120</td>\n",
       "      <td>0.000081</td>\n",
       "    </tr>\n",
       "    <tr>\n",
       "      <th>BIMBOA.MX</th>\n",
       "      <td>0.000051</td>\n",
       "      <td>0.000479</td>\n",
       "      <td>0.000068</td>\n",
       "      <td>-0.000004</td>\n",
       "      <td>0.000066</td>\n",
       "      <td>0.000009</td>\n",
       "      <td>0.000112</td>\n",
       "      <td>0.000086</td>\n",
       "      <td>0.000088</td>\n",
       "      <td>0.000119</td>\n",
       "    </tr>\n",
       "    <tr>\n",
       "      <th>BRK-A</th>\n",
       "      <td>0.000093</td>\n",
       "      <td>0.000068</td>\n",
       "      <td>0.000205</td>\n",
       "      <td>-0.000013</td>\n",
       "      <td>0.000116</td>\n",
       "      <td>0.000012</td>\n",
       "      <td>0.000218</td>\n",
       "      <td>0.000113</td>\n",
       "      <td>0.000166</td>\n",
       "      <td>0.000187</td>\n",
       "    </tr>\n",
       "    <tr>\n",
       "      <th>DX-Y.NYB</th>\n",
       "      <td>-0.000013</td>\n",
       "      <td>-0.000004</td>\n",
       "      <td>-0.000013</td>\n",
       "      <td>0.000021</td>\n",
       "      <td>-0.000015</td>\n",
       "      <td>-0.000019</td>\n",
       "      <td>-0.000022</td>\n",
       "      <td>-0.000007</td>\n",
       "      <td>-0.000015</td>\n",
       "      <td>0.000041</td>\n",
       "    </tr>\n",
       "    <tr>\n",
       "      <th>FER.MC</th>\n",
       "      <td>0.000089</td>\n",
       "      <td>0.000066</td>\n",
       "      <td>0.000116</td>\n",
       "      <td>-0.000015</td>\n",
       "      <td>0.000336</td>\n",
       "      <td>0.000008</td>\n",
       "      <td>0.000216</td>\n",
       "      <td>0.000160</td>\n",
       "      <td>0.000117</td>\n",
       "      <td>0.000140</td>\n",
       "    </tr>\n",
       "    <tr>\n",
       "      <th>GC=F</th>\n",
       "      <td>0.000027</td>\n",
       "      <td>0.000009</td>\n",
       "      <td>0.000012</td>\n",
       "      <td>-0.000019</td>\n",
       "      <td>0.000008</td>\n",
       "      <td>0.000108</td>\n",
       "      <td>0.000038</td>\n",
       "      <td>0.000005</td>\n",
       "      <td>0.000019</td>\n",
       "      <td>-0.000107</td>\n",
       "    </tr>\n",
       "    <tr>\n",
       "      <th>SHEL</th>\n",
       "      <td>0.000124</td>\n",
       "      <td>0.000112</td>\n",
       "      <td>0.000218</td>\n",
       "      <td>-0.000022</td>\n",
       "      <td>0.000216</td>\n",
       "      <td>0.000038</td>\n",
       "      <td>0.000678</td>\n",
       "      <td>0.000218</td>\n",
       "      <td>0.000207</td>\n",
       "      <td>0.000322</td>\n",
       "    </tr>\n",
       "    <tr>\n",
       "      <th>ZURN.SW</th>\n",
       "      <td>0.000073</td>\n",
       "      <td>0.000086</td>\n",
       "      <td>0.000113</td>\n",
       "      <td>-0.000007</td>\n",
       "      <td>0.000160</td>\n",
       "      <td>0.000005</td>\n",
       "      <td>0.000218</td>\n",
       "      <td>0.000245</td>\n",
       "      <td>0.000105</td>\n",
       "      <td>0.000202</td>\n",
       "    </tr>\n",
       "    <tr>\n",
       "      <th>^GSPC</th>\n",
       "      <td>0.000120</td>\n",
       "      <td>0.000088</td>\n",
       "      <td>0.000166</td>\n",
       "      <td>-0.000015</td>\n",
       "      <td>0.000117</td>\n",
       "      <td>0.000019</td>\n",
       "      <td>0.000207</td>\n",
       "      <td>0.000105</td>\n",
       "      <td>0.000215</td>\n",
       "      <td>0.000182</td>\n",
       "    </tr>\n",
       "    <tr>\n",
       "      <th>^TNX</th>\n",
       "      <td>0.000081</td>\n",
       "      <td>0.000119</td>\n",
       "      <td>0.000187</td>\n",
       "      <td>0.000041</td>\n",
       "      <td>0.000140</td>\n",
       "      <td>-0.000107</td>\n",
       "      <td>0.000322</td>\n",
       "      <td>0.000202</td>\n",
       "      <td>0.000182</td>\n",
       "      <td>0.001934</td>\n",
       "    </tr>\n",
       "  </tbody>\n",
       "</table>\n",
       "</div>"
      ],
      "text/plain": [
       "                AZN  BIMBOA.MX     BRK-A  DX-Y.NYB    FER.MC      GC=F  \\\n",
       "AZN        0.000305   0.000051  0.000093 -0.000013  0.000089  0.000027   \n",
       "BIMBOA.MX  0.000051   0.000479  0.000068 -0.000004  0.000066  0.000009   \n",
       "BRK-A      0.000093   0.000068  0.000205 -0.000013  0.000116  0.000012   \n",
       "DX-Y.NYB  -0.000013  -0.000004 -0.000013  0.000021 -0.000015 -0.000019   \n",
       "FER.MC     0.000089   0.000066  0.000116 -0.000015  0.000336  0.000008   \n",
       "GC=F       0.000027   0.000009  0.000012 -0.000019  0.000008  0.000108   \n",
       "SHEL       0.000124   0.000112  0.000218 -0.000022  0.000216  0.000038   \n",
       "ZURN.SW    0.000073   0.000086  0.000113 -0.000007  0.000160  0.000005   \n",
       "^GSPC      0.000120   0.000088  0.000166 -0.000015  0.000117  0.000019   \n",
       "^TNX       0.000081   0.000119  0.000187  0.000041  0.000140 -0.000107   \n",
       "\n",
       "               SHEL   ZURN.SW     ^GSPC      ^TNX  \n",
       "AZN        0.000124  0.000073  0.000120  0.000081  \n",
       "BIMBOA.MX  0.000112  0.000086  0.000088  0.000119  \n",
       "BRK-A      0.000218  0.000113  0.000166  0.000187  \n",
       "DX-Y.NYB  -0.000022 -0.000007 -0.000015  0.000041  \n",
       "FER.MC     0.000216  0.000160  0.000117  0.000140  \n",
       "GC=F       0.000038  0.000005  0.000019 -0.000107  \n",
       "SHEL       0.000678  0.000218  0.000207  0.000322  \n",
       "ZURN.SW    0.000218  0.000245  0.000105  0.000202  \n",
       "^GSPC      0.000207  0.000105  0.000215  0.000182  \n",
       "^TNX       0.000322  0.000202  0.000182  0.001934  "
      ]
     },
     "execution_count": 5,
     "metadata": {},
     "output_type": "execute_result"
    }
   ],
   "source": [
    "cov_matrix = returns.cov()\n",
    "cov_matrix"
   ]
  },
  {
   "cell_type": "code",
   "execution_count": 6,
   "id": "5208d5fb",
   "metadata": {},
   "outputs": [
    {
     "data": {
      "text/plain": [
       "AZN          0.000463\n",
       "BIMBOA.MX    0.001129\n",
       "BRK-A        0.000607\n",
       "DX-Y.NYB     0.000096\n",
       "FER.MC       0.000279\n",
       "GC=F         0.000307\n",
       "SHEL         0.000428\n",
       "ZURN.SW      0.000192\n",
       "^GSPC        0.000421\n",
       "^TNX         0.001810\n",
       "dtype: float64"
      ]
     },
     "execution_count": 6,
     "metadata": {},
     "output_type": "execute_result"
    }
   ],
   "source": [
    "avg_rets = returns.mean()\n",
    "avg_rets       "
   ]
  },
  {
   "cell_type": "markdown",
   "id": "2506bd83",
   "metadata": {},
   "source": [
    "## Calculamos el número de VaR asignando una ponderación a cada activo"
   ]
  },
  {
   "cell_type": "code",
   "execution_count": 7,
   "id": "debac2a2",
   "metadata": {},
   "outputs": [
    {
     "name": "stdout",
     "output_type": "stream",
     "text": [
      "Portfolio Mean:  0.0007476617845125012\n",
      "Portfolio St. Dev:  0.010377479644844517\n",
      "Mean Investment:  1000747.6617845126\n",
      "Investment St. Dev:  10377.479644844516 \n",
      "\n",
      "1 day VaR @ 99% confidence: 23393.97 (2.34%)\n",
      "7 day VaR @ 99% confidence: 61894.62 (6.19%)\n",
      "15 day VaR @ 99% confidence: 90604.44 (9.06%)\n",
      "30 day VaR @ 99% confidence: 128134.03 (12.81%)\n"
     ]
    }
   ],
   "source": [
    "weights = np.array([.0402, .3089, .1127, .1107, .0266, .2414, .007, .0221, .0172, .1134])\n",
    "\n",
    "port_mean = avg_rets.dot(weights)\n",
    "print(\"Portfolio Mean: \", port_mean)\n",
    "\n",
    "port_stdev = np.sqrt(weights.T.dot(cov_matrix).dot(weights))\n",
    "print(\"Portfolio St. Dev: \", port_stdev)\n",
    "\n",
    "mean_investment = (1+port_mean) * initial_investment\n",
    "print(\"Mean Investment: \", mean_investment)\n",
    "\n",
    "stdev_investment = initial_investment * port_stdev\n",
    "print(\"Investment St. Dev: \", stdev_investment,\"\\n\")\n",
    "\n",
    "conf_level1 = 0.01\n",
    "\n",
    "from scipy.stats import norm\n",
    "cutoff1 = norm.ppf(conf_level1, mean_investment, stdev_investment)\n",
    "\n",
    "var_1d1 = initial_investment - cutoff1\n",
    "\n",
    "var_array = []\n",
    "num_days = [1,7,15,30]\n",
    "for x in num_days:    \n",
    "    var_array.append(np.round(var_1d1 * np.sqrt(x),2))\n",
    "    print(str(x) + \" day VaR @ 99% confidence: \" + str(np.round(var_1d1 * np.sqrt(x),2))+\" (\"+str(np.round(var_1d1 * np.sqrt(x)/initial_investment*100,2))+\"%)\")"
   ]
  },
  {
   "cell_type": "code",
   "execution_count": 8,
   "id": "9c80a701",
   "metadata": {},
   "outputs": [
    {
     "data": {
      "text/plain": [
       "[<matplotlib.lines.Line2D at 0x208e1c41f10>]"
      ]
     },
     "execution_count": 8,
     "metadata": {},
     "output_type": "execute_result"
    },
    {
     "data": {
      "image/png": "[encoded data removed]",
      "text/plain": [
       "<Figure size 432x288 with 1 Axes>"
      ]
     },
     "metadata": {
      "needs_background": "light"
     },
     "output_type": "display_data"
    }
   ],
   "source": [
    "var_array = []\n",
    "num_days = int(30)\n",
    "for x in range(1, num_days+1):    \n",
    "    var_array.append(np.round(var_1d1 * np.sqrt(x),2))\n",
    "\n",
    "import matplotlib.mlab as mlab\n",
    "import matplotlib.pyplot as plt\n",
    "\n",
    "plt.xlabel(\"Day #\")\n",
    "plt.ylabel(\"Portfolio max loss (USD)\")\n",
    "plt.title(\"Maximum loss of the portfolio (VaR) in a period of 30 days\")\n",
    "plt.plot(var_array, \"r\")"
   ]
  },
  {
   "cell_type": "markdown",
   "id": "983c8b7b",
   "metadata": {},
   "source": [
    "## Revisamos los retornos de cada activo contra una distribución normal"
   ]
  },
  {
   "cell_type": "code",
   "execution_count": 10,
   "id": "65029753",
   "metadata": {},
   "outputs": [
    {
     "data": {
      "image/png": "[encoded data removed]",
      "text/plain": [
       "<Figure size 432x288 with 1 Axes>"
      ]
     },
     "metadata": {
      "needs_background": "light"
     },
     "output_type": "display_data"
    }
   ],
   "source": [
    "returns['AZN'].hist(bins=40, density=True,histtype=\"stepfilled\",alpha=0.5)\n",
    "x = np.linspace(port_mean - 3*port_stdev, port_mean+3*port_stdev,100)\n",
    "plt.plot(x, scipy.stats.norm.pdf(x, port_mean, port_stdev), \"r\")\n",
    "plt.title(\"AZN returns vs normal distribution\")\n",
    "plt.show()"
   ]
  },
  {
   "cell_type": "code",
   "execution_count": 12,
   "id": "b4309174",
   "metadata": {},
   "outputs": [
    {
     "data": {
      "image/png": "[encoded data removed]",
      "text/plain": [
       "<Figure size 432x288 with 1 Axes>"
      ]
     },
     "metadata": {
      "needs_background": "light"
     },
     "output_type": "display_data"
    }
   ],
   "source": [
    "returns['BIMBOA.MX'].hist(bins=40, density=True,histtype=\"stepfilled\",alpha=0.5)\n",
    "x = np.linspace(port_mean - 3*port_stdev, port_mean+3*port_stdev,100)\n",
    "plt.plot(x, scipy.stats.norm.pdf(x, port_mean, port_stdev), \"r\")\n",
    "plt.title(\"BIMBOA.MX returns vs normal distribution\")\n",
    "plt.show()"
   ]
  },
  {
   "cell_type": "code",
   "execution_count": 13,
   "id": "8314c43d",
   "metadata": {},
   "outputs": [
    {
     "data": {
      "image/png": "[encoded data removed]",
      "text/plain": [
       "<Figure size 432x288 with 1 Axes>"
      ]
     },
     "metadata": {
      "needs_background": "light"
     },
     "output_type": "display_data"
    }
   ],
   "source": [
    "returns['BRK-A'].hist(bins=40, density=True,histtype=\"stepfilled\",alpha=0.5)\n",
    "x = np.linspace(port_mean - 3*port_stdev, port_mean+3*port_stdev,100)\n",
    "plt.plot(x, scipy.stats.norm.pdf(x, port_mean, port_stdev), \"r\")\n",
    "plt.title(\"BRK-A returns vs normal distribution\")\n",
    "plt.show()"
   ]
  },
  {
   "cell_type": "code",
   "execution_count": 14,
   "id": "af929f8d",
   "metadata": {},
   "outputs": [
    {
     "data": {
      "image/png": "[encoded data removed]",
      "text/plain": [
       "<Figure size 432x288 with 1 Axes>"
      ]
     },
     "metadata": {
      "needs_background": "light"
     },
     "output_type": "display_data"
    }
   ],
   "source": [
    "returns['DX-Y.NYB'].hist(bins=40, density=True,histtype=\"stepfilled\",alpha=0.5)\n",
    "x = np.linspace(port_mean - 3*port_stdev, port_mean+3*port_stdev,100)\n",
    "plt.plot(x, scipy.stats.norm.pdf(x, port_mean, port_stdev), \"r\")\n",
    "plt.title(\"DX-Y.NYB returns vs normal distribution\")\n",
    "plt.show()"
   ]
  },
  {
   "cell_type": "code",
   "execution_count": 15,
   "id": "5290c16d",
   "metadata": {},
   "outputs": [
    {
     "data": {
      "image/png": "[encoded data removed]",
      "text/plain": [
       "<Figure size 432x288 with 1 Axes>"
      ]
     },
     "metadata": {
      "needs_background": "light"
     },
     "output_type": "display_data"
    }
   ],
   "source": [
    "returns['FER.MC'].hist(bins=40, density=True,histtype=\"stepfilled\",alpha=0.5)\n",
    "x = np.linspace(port_mean - 3*port_stdev, port_mean+3*port_stdev,100)\n",
    "plt.plot(x, scipy.stats.norm.pdf(x, port_mean, port_stdev), \"r\")\n",
    "plt.title(\"FER.MC returns vs normal distribution\")\n",
    "plt.show()"
   ]
  },
  {
   "cell_type": "code",
   "execution_count": 16,
   "id": "6f5df81f",
   "metadata": {},
   "outputs": [
    {
     "data": {
      "image/png": "[encoded data removed]",
      "text/plain": [
       "<Figure size 432x288 with 1 Axes>"
      ]
     },
     "metadata": {
      "needs_background": "light"
     },
     "output_type": "display_data"
    }
   ],
   "source": [
    "returns['GC=F'].hist(bins=40, density=True,histtype=\"stepfilled\",alpha=0.5)\n",
    "x = np.linspace(port_mean - 3*port_stdev, port_mean+3*port_stdev,100)\n",
    "plt.plot(x, scipy.stats.norm.pdf(x, port_mean, port_stdev), \"r\")\n",
    "plt.title(\"GC=F returns vs normal distribution\")\n",
    "plt.show()"
   ]
  },
  {
   "cell_type": "code",
   "execution_count": 17,
   "id": "5ca9d9a8",
   "metadata": {},
   "outputs": [
    {
     "data": {
      "image/png": "[encoded data removed]",
      "text/plain": [
       "<Figure size 432x288 with 1 Axes>"
      ]
     },
     "metadata": {
      "needs_background": "light"
     },
     "output_type": "display_data"
    }
   ],
   "source": [
    "returns['SHEL'].hist(bins=40, density=True,histtype=\"stepfilled\",alpha=0.5)\n",
    "x = np.linspace(port_mean - 3*port_stdev, port_mean+3*port_stdev,100)\n",
    "plt.plot(x, scipy.stats.norm.pdf(x, port_mean, port_stdev), \"r\")\n",
    "plt.title(\"SHEL returns vs normal distribution\")\n",
    "plt.show()"
   ]
  },
  {
   "cell_type": "code",
   "execution_count": 18,
   "id": "f983363d",
   "metadata": {},
   "outputs": [
    {
     "data": {
      "image/png": "[encoded data removed]",
      "text/plain": [
       "<Figure size 432x288 with 1 Axes>"
      ]
     },
     "metadata": {
      "needs_background": "light"
     },
     "output_type": "display_data"
    }
   ],
   "source": [
    "returns['ZURN.SW'].hist(bins=40, density=True,histtype=\"stepfilled\",alpha=0.5)\n",
    "x = np.linspace(port_mean - 3*port_stdev, port_mean+3*port_stdev,100)\n",
    "plt.plot(x, scipy.stats.norm.pdf(x, port_mean, port_stdev), \"r\")\n",
    "plt.title(\"ZURN.SW returns vs normal distribution\")\n",
    "plt.show()"
   ]
  },
  {
   "cell_type": "code",
   "execution_count": 19,
   "id": "36997a64",
   "metadata": {},
   "outputs": [
    {
     "data": {
      "image/png": "[encoded data removed]",
      "text/plain": [
       "<Figure size 432x288 with 1 Axes>"
      ]
     },
     "metadata": {
      "needs_background": "light"
     },
     "output_type": "display_data"
    }
   ],
   "source": [
    "returns['^GSPC'].hist(bins=40, density=True,histtype=\"stepfilled\",alpha=0.5)\n",
    "x = np.linspace(port_mean - 3*port_stdev, port_mean+3*port_stdev,100)\n",
    "plt.plot(x, scipy.stats.norm.pdf(x, port_mean, port_stdev), \"r\")\n",
    "plt.title(\"^GSPC returns vs normal distribution\")\n",
    "plt.show()"
   ]
  },
  {
   "cell_type": "code",
   "execution_count": 20,
   "id": "19defddb",
   "metadata": {},
   "outputs": [
    {
     "data": {
      "image/png": "[encoded data removed]",
      "text/plain": [
       "<Figure size 432x288 with 1 Axes>"
      ]
     },
     "metadata": {
      "needs_background": "light"
     },
     "output_type": "display_data"
    }
   ],
   "source": [
    "returns['^TNX'].hist(bins=40, density=True,histtype=\"stepfilled\",alpha=0.5)\n",
    "x = np.linspace(port_mean - 3*port_stdev, port_mean+3*port_stdev,100)\n",
    "plt.plot(x, scipy.stats.norm.pdf(x, port_mean, port_stdev), \"r\")\n",
    "plt.title(\"^TNX returns vs normal distribution\")\n",
    "plt.show()"
   ]
  }
 ],
 "metadata": {
  "kernelspec": {
   "display_name": "Python 3 (ipykernel)",
   "language": "python",
   "name": "python3"
  },
  "language_info": {
   "codemirror_mode": {
    "name": "ipython",
    "version": 3
   },
   "file_extension": ".py",
   "mimetype": "text/x-python",
   "name": "python",
   "nbconvert_exporter": "python",
   "pygments_lexer": "ipython3",
   "version": "3.9.12"
  }
 },
 "nbformat": 4,
 "nbformat_minor": 5
}
